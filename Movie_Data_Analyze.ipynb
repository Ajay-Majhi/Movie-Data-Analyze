{
  "nbformat": 4,
  "nbformat_minor": 0,
  "metadata": {
    "colab": {
      "name": "Movie Data Analyze.ipynb",
      "provenance": [],
      "collapsed_sections": []
    },
    "kernelspec": {
      "name": "python3",
      "display_name": "Python 3"
    },
    "language_info": {
      "name": "python"
    },
    "accelerator": "GPU"
  },
  "cells": [
    {
      "cell_type": "markdown",
      "source": [
        "# Introduction: \n",
        "The data set I chose is Movie dataset\n",
        "\n",
        "Here are some notes and comments about this datasets : \n",
        "This data set contains information about 10,000 movies collected from The Movie Database (TMDb), including user ratings and revenue.\n",
        "\n",
        "Certain columns, like ‘cast’ and ‘genres’, contain multiple values separated by pipe (|) characters.\n",
        "\n",
        "There are some odd characters in the ‘cast’ column. Don’t worry about cleaning them. You can leave them as is.\n",
        "\n",
        "The final two columns ending with “_adj” show the budget and revenue of the associated movie in terms of 2010 dollars, accounting for inflation over time.\n",
        "\n",
        "\n",
        "# The questions about this dataset:\n",
        " \n",
        "1. Does higher budget mean higher popularity ? Is there a coefficent relationship ?\n",
        " \n",
        "2. Will the runtime affect the vote count and popularity?\n",
        "\n",
        "3. Higher popularity means higher profits ? \n",
        "\n",
        "4. What Features are Associate with Top 10 Revenue Movies ? \n",
        "\n",
        "5. Which genres are most popular from year to year?\n"
      ],
      "metadata": {
        "id": "tJ-CYMHOEwZQ"
      }
    },
    {
      "cell_type": "markdown",
      "source": [
        "# Data Wrangling: \n",
        "Get familiar with the data types, data structure. I did delete the duplicates and unuseful columns like imdb_id,homepage etc. \n",
        "\n",
        "When handling the missing data. I use two ways: for all the missing data with data type object, i fill the null with string\n",
        "\"missing\". For budget, datatype integer,I fill 0 with np.NAN. \n"
      ],
      "metadata": {
        "id": "v8IgpOX8FAN4"
      }
    },
    {
      "cell_type": "code",
      "source": [
        "\n",
        "from google.colab import drive\n",
        "drive.mount('/content/drive')"
      ],
      "metadata": {
        "id": "llkT5dtJFeo4"
      },
      "execution_count": null,
      "outputs": []
    },
    {
      "cell_type": "code",
      "source": [
        "# Import all the libraries which will be used later\n",
        "import pandas as pd\n",
        "import matplotlib.pyplot as plt\n",
        "import seaborn as sns       \n",
        "import numpy as np\n",
        "%matplotlib inline "
      ],
      "metadata": {
        "id": "e5lr5ObCJIob"
      },
      "execution_count": 8,
      "outputs": []
    },
    {
      "cell_type": "code",
      "source": [
        "# load in data and print out the head \n",
        "df=pd.read_csv('/content/drive/MyDrive/Colab Notebooks/tmdb-movies.csv')\n",
        "df.head()\n"
      ],
      "metadata": {
        "colab": {
          "base_uri": "https://localhost:8080/",
          "height": 699
        },
        "id": "Yra2B5znD_3e",
        "outputId": "9c9964d8-8bf9-4af9-b390-9133e27cdf80"
      },
      "execution_count": 10,
      "outputs": [
        {
          "output_type": "execute_result",
          "data": {
            "text/plain": [
              "       id    imdb_id  popularity     budget     revenue  \\\n",
              "0  135397  tt0369610   32.985763  150000000  1513528810   \n",
              "1   76341  tt1392190   28.419936  150000000   378436354   \n",
              "2  262500  tt2908446   13.112507  110000000   295238201   \n",
              "3  140607  tt2488496   11.173104  200000000  2068178225   \n",
              "4  168259  tt2820852    9.335014  190000000  1506249360   \n",
              "\n",
              "                 original_title  \\\n",
              "0                Jurassic World   \n",
              "1            Mad Max: Fury Road   \n",
              "2                     Insurgent   \n",
              "3  Star Wars: The Force Awakens   \n",
              "4                     Furious 7   \n",
              "\n",
              "                                                cast  \\\n",
              "0  Chris Pratt|Bryce Dallas Howard|Irrfan Khan|Vi...   \n",
              "1  Tom Hardy|Charlize Theron|Hugh Keays-Byrne|Nic...   \n",
              "2  Shailene Woodley|Theo James|Kate Winslet|Ansel...   \n",
              "3  Harrison Ford|Mark Hamill|Carrie Fisher|Adam D...   \n",
              "4  Vin Diesel|Paul Walker|Jason Statham|Michelle ...   \n",
              "\n",
              "                                            homepage          director  \\\n",
              "0                      http://www.jurassicworld.com/   Colin Trevorrow   \n",
              "1                        http://www.madmaxmovie.com/     George Miller   \n",
              "2     http://www.thedivergentseries.movie/#insurgent  Robert Schwentke   \n",
              "3  http://www.starwars.com/films/star-wars-episod...       J.J. Abrams   \n",
              "4                           http://www.furious7.com/         James Wan   \n",
              "\n",
              "                         tagline  ...  \\\n",
              "0              The park is open.  ...   \n",
              "1             What a Lovely Day.  ...   \n",
              "2     One Choice Can Destroy You  ...   \n",
              "3  Every generation has a story.  ...   \n",
              "4            Vengeance Hits Home  ...   \n",
              "\n",
              "                                            overview runtime  \\\n",
              "0  Twenty-two years after the events of Jurassic ...     124   \n",
              "1  An apocalyptic story set in the furthest reach...     120   \n",
              "2  Beatrice Prior must confront her inner demons ...     119   \n",
              "3  Thirty years after defeating the Galactic Empi...     136   \n",
              "4  Deckard Shaw seeks revenge against Dominic Tor...     137   \n",
              "\n",
              "                                      genres  \\\n",
              "0  Action|Adventure|Science Fiction|Thriller   \n",
              "1  Action|Adventure|Science Fiction|Thriller   \n",
              "2         Adventure|Science Fiction|Thriller   \n",
              "3   Action|Adventure|Science Fiction|Fantasy   \n",
              "4                      Action|Crime|Thriller   \n",
              "\n",
              "                                production_companies release_date vote_count  \\\n",
              "0  Universal Studios|Amblin Entertainment|Legenda...       6/9/15       5562   \n",
              "1  Village Roadshow Pictures|Kennedy Miller Produ...      5/13/15       6185   \n",
              "2  Summit Entertainment|Mandeville Films|Red Wago...      3/18/15       2480   \n",
              "3          Lucasfilm|Truenorth Productions|Bad Robot     12/15/15       5292   \n",
              "4  Universal Pictures|Original Film|Media Rights ...       4/1/15       2947   \n",
              "\n",
              "   vote_average  release_year    budget_adj   revenue_adj  \n",
              "0           6.5          2015  1.379999e+08  1.392446e+09  \n",
              "1           7.1          2015  1.379999e+08  3.481613e+08  \n",
              "2           6.3          2015  1.012000e+08  2.716190e+08  \n",
              "3           7.5          2015  1.839999e+08  1.902723e+09  \n",
              "4           7.3          2015  1.747999e+08  1.385749e+09  \n",
              "\n",
              "[5 rows x 21 columns]"
            ],
            "text/html": [
              "\n",
              "  <div id=\"df-3d5fa8e8-997d-4b63-a99d-4bef261ccc50\">\n",
              "    <div class=\"colab-df-container\">\n",
              "      <div>\n",
              "<style scoped>\n",
              "    .dataframe tbody tr th:only-of-type {\n",
              "        vertical-align: middle;\n",
              "    }\n",
              "\n",
              "    .dataframe tbody tr th {\n",
              "        vertical-align: top;\n",
              "    }\n",
              "\n",
              "    .dataframe thead th {\n",
              "        text-align: right;\n",
              "    }\n",
              "</style>\n",
              "<table border=\"1\" class=\"dataframe\">\n",
              "  <thead>\n",
              "    <tr style=\"text-align: right;\">\n",
              "      <th></th>\n",
              "      <th>id</th>\n",
              "      <th>imdb_id</th>\n",
              "      <th>popularity</th>\n",
              "      <th>budget</th>\n",
              "      <th>revenue</th>\n",
              "      <th>original_title</th>\n",
              "      <th>cast</th>\n",
              "      <th>homepage</th>\n",
              "      <th>director</th>\n",
              "      <th>tagline</th>\n",
              "      <th>...</th>\n",
              "      <th>overview</th>\n",
              "      <th>runtime</th>\n",
              "      <th>genres</th>\n",
              "      <th>production_companies</th>\n",
              "      <th>release_date</th>\n",
              "      <th>vote_count</th>\n",
              "      <th>vote_average</th>\n",
              "      <th>release_year</th>\n",
              "      <th>budget_adj</th>\n",
              "      <th>revenue_adj</th>\n",
              "    </tr>\n",
              "  </thead>\n",
              "  <tbody>\n",
              "    <tr>\n",
              "      <th>0</th>\n",
              "      <td>135397</td>\n",
              "      <td>tt0369610</td>\n",
              "      <td>32.985763</td>\n",
              "      <td>150000000</td>\n",
              "      <td>1513528810</td>\n",
              "      <td>Jurassic World</td>\n",
              "      <td>Chris Pratt|Bryce Dallas Howard|Irrfan Khan|Vi...</td>\n",
              "      <td>http://www.jurassicworld.com/</td>\n",
              "      <td>Colin Trevorrow</td>\n",
              "      <td>The park is open.</td>\n",
              "      <td>...</td>\n",
              "      <td>Twenty-two years after the events of Jurassic ...</td>\n",
              "      <td>124</td>\n",
              "      <td>Action|Adventure|Science Fiction|Thriller</td>\n",
              "      <td>Universal Studios|Amblin Entertainment|Legenda...</td>\n",
              "      <td>6/9/15</td>\n",
              "      <td>5562</td>\n",
              "      <td>6.5</td>\n",
              "      <td>2015</td>\n",
              "      <td>1.379999e+08</td>\n",
              "      <td>1.392446e+09</td>\n",
              "    </tr>\n",
              "    <tr>\n",
              "      <th>1</th>\n",
              "      <td>76341</td>\n",
              "      <td>tt1392190</td>\n",
              "      <td>28.419936</td>\n",
              "      <td>150000000</td>\n",
              "      <td>378436354</td>\n",
              "      <td>Mad Max: Fury Road</td>\n",
              "      <td>Tom Hardy|Charlize Theron|Hugh Keays-Byrne|Nic...</td>\n",
              "      <td>http://www.madmaxmovie.com/</td>\n",
              "      <td>George Miller</td>\n",
              "      <td>What a Lovely Day.</td>\n",
              "      <td>...</td>\n",
              "      <td>An apocalyptic story set in the furthest reach...</td>\n",
              "      <td>120</td>\n",
              "      <td>Action|Adventure|Science Fiction|Thriller</td>\n",
              "      <td>Village Roadshow Pictures|Kennedy Miller Produ...</td>\n",
              "      <td>5/13/15</td>\n",
              "      <td>6185</td>\n",
              "      <td>7.1</td>\n",
              "      <td>2015</td>\n",
              "      <td>1.379999e+08</td>\n",
              "      <td>3.481613e+08</td>\n",
              "    </tr>\n",
              "    <tr>\n",
              "      <th>2</th>\n",
              "      <td>262500</td>\n",
              "      <td>tt2908446</td>\n",
              "      <td>13.112507</td>\n",
              "      <td>110000000</td>\n",
              "      <td>295238201</td>\n",
              "      <td>Insurgent</td>\n",
              "      <td>Shailene Woodley|Theo James|Kate Winslet|Ansel...</td>\n",
              "      <td>http://www.thedivergentseries.movie/#insurgent</td>\n",
              "      <td>Robert Schwentke</td>\n",
              "      <td>One Choice Can Destroy You</td>\n",
              "      <td>...</td>\n",
              "      <td>Beatrice Prior must confront her inner demons ...</td>\n",
              "      <td>119</td>\n",
              "      <td>Adventure|Science Fiction|Thriller</td>\n",
              "      <td>Summit Entertainment|Mandeville Films|Red Wago...</td>\n",
              "      <td>3/18/15</td>\n",
              "      <td>2480</td>\n",
              "      <td>6.3</td>\n",
              "      <td>2015</td>\n",
              "      <td>1.012000e+08</td>\n",
              "      <td>2.716190e+08</td>\n",
              "    </tr>\n",
              "    <tr>\n",
              "      <th>3</th>\n",
              "      <td>140607</td>\n",
              "      <td>tt2488496</td>\n",
              "      <td>11.173104</td>\n",
              "      <td>200000000</td>\n",
              "      <td>2068178225</td>\n",
              "      <td>Star Wars: The Force Awakens</td>\n",
              "      <td>Harrison Ford|Mark Hamill|Carrie Fisher|Adam D...</td>\n",
              "      <td>http://www.starwars.com/films/star-wars-episod...</td>\n",
              "      <td>J.J. Abrams</td>\n",
              "      <td>Every generation has a story.</td>\n",
              "      <td>...</td>\n",
              "      <td>Thirty years after defeating the Galactic Empi...</td>\n",
              "      <td>136</td>\n",
              "      <td>Action|Adventure|Science Fiction|Fantasy</td>\n",
              "      <td>Lucasfilm|Truenorth Productions|Bad Robot</td>\n",
              "      <td>12/15/15</td>\n",
              "      <td>5292</td>\n",
              "      <td>7.5</td>\n",
              "      <td>2015</td>\n",
              "      <td>1.839999e+08</td>\n",
              "      <td>1.902723e+09</td>\n",
              "    </tr>\n",
              "    <tr>\n",
              "      <th>4</th>\n",
              "      <td>168259</td>\n",
              "      <td>tt2820852</td>\n",
              "      <td>9.335014</td>\n",
              "      <td>190000000</td>\n",
              "      <td>1506249360</td>\n",
              "      <td>Furious 7</td>\n",
              "      <td>Vin Diesel|Paul Walker|Jason Statham|Michelle ...</td>\n",
              "      <td>http://www.furious7.com/</td>\n",
              "      <td>James Wan</td>\n",
              "      <td>Vengeance Hits Home</td>\n",
              "      <td>...</td>\n",
              "      <td>Deckard Shaw seeks revenge against Dominic Tor...</td>\n",
              "      <td>137</td>\n",
              "      <td>Action|Crime|Thriller</td>\n",
              "      <td>Universal Pictures|Original Film|Media Rights ...</td>\n",
              "      <td>4/1/15</td>\n",
              "      <td>2947</td>\n",
              "      <td>7.3</td>\n",
              "      <td>2015</td>\n",
              "      <td>1.747999e+08</td>\n",
              "      <td>1.385749e+09</td>\n",
              "    </tr>\n",
              "  </tbody>\n",
              "</table>\n",
              "<p>5 rows × 21 columns</p>\n",
              "</div>\n",
              "      <button class=\"colab-df-convert\" onclick=\"convertToInteractive('df-3d5fa8e8-997d-4b63-a99d-4bef261ccc50')\"\n",
              "              title=\"Convert this dataframe to an interactive table.\"\n",
              "              style=\"display:none;\">\n",
              "        \n",
              "  <svg xmlns=\"http://www.w3.org/2000/svg\" height=\"24px\"viewBox=\"0 0 24 24\"\n",
              "       width=\"24px\">\n",
              "    <path d=\"M0 0h24v24H0V0z\" fill=\"none\"/>\n",
              "    <path d=\"M18.56 5.44l.94 2.06.94-2.06 2.06-.94-2.06-.94-.94-2.06-.94 2.06-2.06.94zm-11 1L8.5 8.5l.94-2.06 2.06-.94-2.06-.94L8.5 2.5l-.94 2.06-2.06.94zm10 10l.94 2.06.94-2.06 2.06-.94-2.06-.94-.94-2.06-.94 2.06-2.06.94z\"/><path d=\"M17.41 7.96l-1.37-1.37c-.4-.4-.92-.59-1.43-.59-.52 0-1.04.2-1.43.59L10.3 9.45l-7.72 7.72c-.78.78-.78 2.05 0 2.83L4 21.41c.39.39.9.59 1.41.59.51 0 1.02-.2 1.41-.59l7.78-7.78 2.81-2.81c.8-.78.8-2.07 0-2.86zM5.41 20L4 18.59l7.72-7.72 1.47 1.35L5.41 20z\"/>\n",
              "  </svg>\n",
              "      </button>\n",
              "      \n",
              "  <style>\n",
              "    .colab-df-container {\n",
              "      display:flex;\n",
              "      flex-wrap:wrap;\n",
              "      gap: 12px;\n",
              "    }\n",
              "\n",
              "    .colab-df-convert {\n",
              "      background-color: #E8F0FE;\n",
              "      border: none;\n",
              "      border-radius: 50%;\n",
              "      cursor: pointer;\n",
              "      display: none;\n",
              "      fill: #1967D2;\n",
              "      height: 32px;\n",
              "      padding: 0 0 0 0;\n",
              "      width: 32px;\n",
              "    }\n",
              "\n",
              "    .colab-df-convert:hover {\n",
              "      background-color: #E2EBFA;\n",
              "      box-shadow: 0px 1px 2px rgba(60, 64, 67, 0.3), 0px 1px 3px 1px rgba(60, 64, 67, 0.15);\n",
              "      fill: #174EA6;\n",
              "    }\n",
              "\n",
              "    [theme=dark] .colab-df-convert {\n",
              "      background-color: #3B4455;\n",
              "      fill: #D2E3FC;\n",
              "    }\n",
              "\n",
              "    [theme=dark] .colab-df-convert:hover {\n",
              "      background-color: #434B5C;\n",
              "      box-shadow: 0px 1px 3px 1px rgba(0, 0, 0, 0.15);\n",
              "      filter: drop-shadow(0px 1px 2px rgba(0, 0, 0, 0.3));\n",
              "      fill: #FFFFFF;\n",
              "    }\n",
              "  </style>\n",
              "\n",
              "      <script>\n",
              "        const buttonEl =\n",
              "          document.querySelector('#df-3d5fa8e8-997d-4b63-a99d-4bef261ccc50 button.colab-df-convert');\n",
              "        buttonEl.style.display =\n",
              "          google.colab.kernel.accessAllowed ? 'block' : 'none';\n",
              "\n",
              "        async function convertToInteractive(key) {\n",
              "          const element = document.querySelector('#df-3d5fa8e8-997d-4b63-a99d-4bef261ccc50');\n",
              "          const dataTable =\n",
              "            await google.colab.kernel.invokeFunction('convertToInteractive',\n",
              "                                                     [key], {});\n",
              "          if (!dataTable) return;\n",
              "\n",
              "          const docLinkHtml = 'Like what you see? Visit the ' +\n",
              "            '<a target=\"_blank\" href=https://colab.research.google.com/notebooks/data_table.ipynb>data table notebook</a>'\n",
              "            + ' to learn more about interactive tables.';\n",
              "          element.innerHTML = '';\n",
              "          dataTable['output_type'] = 'display_data';\n",
              "          await google.colab.output.renderOutput(dataTable, element);\n",
              "          const docLink = document.createElement('div');\n",
              "          docLink.innerHTML = docLinkHtml;\n",
              "          element.appendChild(docLink);\n",
              "        }\n",
              "      </script>\n",
              "    </div>\n",
              "  </div>\n",
              "  "
            ]
          },
          "metadata": {},
          "execution_count": 10
        }
      ]
    },
    {
      "cell_type": "code",
      "source": [
        "# check the rows and columns of this dataset\n",
        "df.shape  "
      ],
      "metadata": {
        "colab": {
          "base_uri": "https://localhost:8080/"
        },
        "id": "ex509phWD_6p",
        "outputId": "00347f51-bc42-41e1-afe2-2f1a4edf77cc"
      },
      "execution_count": 11,
      "outputs": [
        {
          "output_type": "execute_result",
          "data": {
            "text/plain": [
              "(10866, 21)"
            ]
          },
          "metadata": {},
          "execution_count": 11
        }
      ]
    },
    {
      "cell_type": "code",
      "source": [
        "# check datatypes to see if there are some wrongly categorized types\n",
        "df.dtypes"
      ],
      "metadata": {
        "colab": {
          "base_uri": "https://localhost:8080/"
        },
        "id": "6wZnmy1eD_9M",
        "outputId": "188a46cc-78b5-4713-a101-d7d09722a1e3"
      },
      "execution_count": 12,
      "outputs": [
        {
          "output_type": "execute_result",
          "data": {
            "text/plain": [
              "id                        int64\n",
              "imdb_id                  object\n",
              "popularity              float64\n",
              "budget                    int64\n",
              "revenue                   int64\n",
              "original_title           object\n",
              "cast                     object\n",
              "homepage                 object\n",
              "director                 object\n",
              "tagline                  object\n",
              "keywords                 object\n",
              "overview                 object\n",
              "runtime                   int64\n",
              "genres                   object\n",
              "production_companies     object\n",
              "release_date             object\n",
              "vote_count                int64\n",
              "vote_average            float64\n",
              "release_year              int64\n",
              "budget_adj              float64\n",
              "revenue_adj             float64\n",
              "dtype: object"
            ]
          },
          "metadata": {},
          "execution_count": 12
        }
      ]
    },
    {
      "cell_type": "code",
      "source": [
        "# check each columns number of unique values \n",
        "df.nunique()"
      ],
      "metadata": {
        "colab": {
          "base_uri": "https://localhost:8080/"
        },
        "id": "hg9elAB3D__-",
        "outputId": "4c9e1305-b1f5-4b73-a224-f1722c223808"
      },
      "execution_count": 13,
      "outputs": [
        {
          "output_type": "execute_result",
          "data": {
            "text/plain": [
              "id                      10865\n",
              "imdb_id                 10855\n",
              "popularity              10814\n",
              "budget                    557\n",
              "revenue                  4702\n",
              "original_title          10571\n",
              "cast                    10719\n",
              "homepage                 2896\n",
              "director                 5067\n",
              "tagline                  7997\n",
              "keywords                 8804\n",
              "overview                10847\n",
              "runtime                   247\n",
              "genres                   2039\n",
              "production_companies     7445\n",
              "release_date             5909\n",
              "vote_count               1289\n",
              "vote_average               72\n",
              "release_year               56\n",
              "budget_adj               2614\n",
              "revenue_adj              4840\n",
              "dtype: int64"
            ]
          },
          "metadata": {},
          "execution_count": 13
        }
      ]
    },
    {
      "cell_type": "code",
      "source": [
        "# statistic values for this data \n",
        "df.describe()"
      ],
      "metadata": {
        "colab": {
          "base_uri": "https://localhost:8080/",
          "height": 364
        },
        "id": "B342Qh9zEACS",
        "outputId": "7bf8f055-43c7-46ad-98ff-8ac0830e24f1"
      },
      "execution_count": 14,
      "outputs": [
        {
          "output_type": "execute_result",
          "data": {
            "text/plain": [
              "                  id    popularity        budget       revenue       runtime  \\\n",
              "count   10866.000000  10866.000000  1.086600e+04  1.086600e+04  10866.000000   \n",
              "mean    66064.177434      0.646441  1.462570e+07  3.982332e+07    102.070863   \n",
              "std     92130.136561      1.000185  3.091321e+07  1.170035e+08     31.381405   \n",
              "min         5.000000      0.000065  0.000000e+00  0.000000e+00      0.000000   \n",
              "25%     10596.250000      0.207583  0.000000e+00  0.000000e+00     90.000000   \n",
              "50%     20669.000000      0.383856  0.000000e+00  0.000000e+00     99.000000   \n",
              "75%     75610.000000      0.713817  1.500000e+07  2.400000e+07    111.000000   \n",
              "max    417859.000000     32.985763  4.250000e+08  2.781506e+09    900.000000   \n",
              "\n",
              "         vote_count  vote_average  release_year    budget_adj   revenue_adj  \n",
              "count  10866.000000  10866.000000  10866.000000  1.086600e+04  1.086600e+04  \n",
              "mean     217.389748      5.974922   2001.322658  1.755104e+07  5.136436e+07  \n",
              "std      575.619058      0.935142     12.812941  3.430616e+07  1.446325e+08  \n",
              "min       10.000000      1.500000   1960.000000  0.000000e+00  0.000000e+00  \n",
              "25%       17.000000      5.400000   1995.000000  0.000000e+00  0.000000e+00  \n",
              "50%       38.000000      6.000000   2006.000000  0.000000e+00  0.000000e+00  \n",
              "75%      145.750000      6.600000   2011.000000  2.085325e+07  3.369710e+07  \n",
              "max     9767.000000      9.200000   2015.000000  4.250000e+08  2.827124e+09  "
            ],
            "text/html": [
              "\n",
              "  <div id=\"df-c53b512c-6cd6-4f22-94d6-aa3d5dd1951e\">\n",
              "    <div class=\"colab-df-container\">\n",
              "      <div>\n",
              "<style scoped>\n",
              "    .dataframe tbody tr th:only-of-type {\n",
              "        vertical-align: middle;\n",
              "    }\n",
              "\n",
              "    .dataframe tbody tr th {\n",
              "        vertical-align: top;\n",
              "    }\n",
              "\n",
              "    .dataframe thead th {\n",
              "        text-align: right;\n",
              "    }\n",
              "</style>\n",
              "<table border=\"1\" class=\"dataframe\">\n",
              "  <thead>\n",
              "    <tr style=\"text-align: right;\">\n",
              "      <th></th>\n",
              "      <th>id</th>\n",
              "      <th>popularity</th>\n",
              "      <th>budget</th>\n",
              "      <th>revenue</th>\n",
              "      <th>runtime</th>\n",
              "      <th>vote_count</th>\n",
              "      <th>vote_average</th>\n",
              "      <th>release_year</th>\n",
              "      <th>budget_adj</th>\n",
              "      <th>revenue_adj</th>\n",
              "    </tr>\n",
              "  </thead>\n",
              "  <tbody>\n",
              "    <tr>\n",
              "      <th>count</th>\n",
              "      <td>10866.000000</td>\n",
              "      <td>10866.000000</td>\n",
              "      <td>1.086600e+04</td>\n",
              "      <td>1.086600e+04</td>\n",
              "      <td>10866.000000</td>\n",
              "      <td>10866.000000</td>\n",
              "      <td>10866.000000</td>\n",
              "      <td>10866.000000</td>\n",
              "      <td>1.086600e+04</td>\n",
              "      <td>1.086600e+04</td>\n",
              "    </tr>\n",
              "    <tr>\n",
              "      <th>mean</th>\n",
              "      <td>66064.177434</td>\n",
              "      <td>0.646441</td>\n",
              "      <td>1.462570e+07</td>\n",
              "      <td>3.982332e+07</td>\n",
              "      <td>102.070863</td>\n",
              "      <td>217.389748</td>\n",
              "      <td>5.974922</td>\n",
              "      <td>2001.322658</td>\n",
              "      <td>1.755104e+07</td>\n",
              "      <td>5.136436e+07</td>\n",
              "    </tr>\n",
              "    <tr>\n",
              "      <th>std</th>\n",
              "      <td>92130.136561</td>\n",
              "      <td>1.000185</td>\n",
              "      <td>3.091321e+07</td>\n",
              "      <td>1.170035e+08</td>\n",
              "      <td>31.381405</td>\n",
              "      <td>575.619058</td>\n",
              "      <td>0.935142</td>\n",
              "      <td>12.812941</td>\n",
              "      <td>3.430616e+07</td>\n",
              "      <td>1.446325e+08</td>\n",
              "    </tr>\n",
              "    <tr>\n",
              "      <th>min</th>\n",
              "      <td>5.000000</td>\n",
              "      <td>0.000065</td>\n",
              "      <td>0.000000e+00</td>\n",
              "      <td>0.000000e+00</td>\n",
              "      <td>0.000000</td>\n",
              "      <td>10.000000</td>\n",
              "      <td>1.500000</td>\n",
              "      <td>1960.000000</td>\n",
              "      <td>0.000000e+00</td>\n",
              "      <td>0.000000e+00</td>\n",
              "    </tr>\n",
              "    <tr>\n",
              "      <th>25%</th>\n",
              "      <td>10596.250000</td>\n",
              "      <td>0.207583</td>\n",
              "      <td>0.000000e+00</td>\n",
              "      <td>0.000000e+00</td>\n",
              "      <td>90.000000</td>\n",
              "      <td>17.000000</td>\n",
              "      <td>5.400000</td>\n",
              "      <td>1995.000000</td>\n",
              "      <td>0.000000e+00</td>\n",
              "      <td>0.000000e+00</td>\n",
              "    </tr>\n",
              "    <tr>\n",
              "      <th>50%</th>\n",
              "      <td>20669.000000</td>\n",
              "      <td>0.383856</td>\n",
              "      <td>0.000000e+00</td>\n",
              "      <td>0.000000e+00</td>\n",
              "      <td>99.000000</td>\n",
              "      <td>38.000000</td>\n",
              "      <td>6.000000</td>\n",
              "      <td>2006.000000</td>\n",
              "      <td>0.000000e+00</td>\n",
              "      <td>0.000000e+00</td>\n",
              "    </tr>\n",
              "    <tr>\n",
              "      <th>75%</th>\n",
              "      <td>75610.000000</td>\n",
              "      <td>0.713817</td>\n",
              "      <td>1.500000e+07</td>\n",
              "      <td>2.400000e+07</td>\n",
              "      <td>111.000000</td>\n",
              "      <td>145.750000</td>\n",
              "      <td>6.600000</td>\n",
              "      <td>2011.000000</td>\n",
              "      <td>2.085325e+07</td>\n",
              "      <td>3.369710e+07</td>\n",
              "    </tr>\n",
              "    <tr>\n",
              "      <th>max</th>\n",
              "      <td>417859.000000</td>\n",
              "      <td>32.985763</td>\n",
              "      <td>4.250000e+08</td>\n",
              "      <td>2.781506e+09</td>\n",
              "      <td>900.000000</td>\n",
              "      <td>9767.000000</td>\n",
              "      <td>9.200000</td>\n",
              "      <td>2015.000000</td>\n",
              "      <td>4.250000e+08</td>\n",
              "      <td>2.827124e+09</td>\n",
              "    </tr>\n",
              "  </tbody>\n",
              "</table>\n",
              "</div>\n",
              "      <button class=\"colab-df-convert\" onclick=\"convertToInteractive('df-c53b512c-6cd6-4f22-94d6-aa3d5dd1951e')\"\n",
              "              title=\"Convert this dataframe to an interactive table.\"\n",
              "              style=\"display:none;\">\n",
              "        \n",
              "  <svg xmlns=\"http://www.w3.org/2000/svg\" height=\"24px\"viewBox=\"0 0 24 24\"\n",
              "       width=\"24px\">\n",
              "    <path d=\"M0 0h24v24H0V0z\" fill=\"none\"/>\n",
              "    <path d=\"M18.56 5.44l.94 2.06.94-2.06 2.06-.94-2.06-.94-.94-2.06-.94 2.06-2.06.94zm-11 1L8.5 8.5l.94-2.06 2.06-.94-2.06-.94L8.5 2.5l-.94 2.06-2.06.94zm10 10l.94 2.06.94-2.06 2.06-.94-2.06-.94-.94-2.06-.94 2.06-2.06.94z\"/><path d=\"M17.41 7.96l-1.37-1.37c-.4-.4-.92-.59-1.43-.59-.52 0-1.04.2-1.43.59L10.3 9.45l-7.72 7.72c-.78.78-.78 2.05 0 2.83L4 21.41c.39.39.9.59 1.41.59.51 0 1.02-.2 1.41-.59l7.78-7.78 2.81-2.81c.8-.78.8-2.07 0-2.86zM5.41 20L4 18.59l7.72-7.72 1.47 1.35L5.41 20z\"/>\n",
              "  </svg>\n",
              "      </button>\n",
              "      \n",
              "  <style>\n",
              "    .colab-df-container {\n",
              "      display:flex;\n",
              "      flex-wrap:wrap;\n",
              "      gap: 12px;\n",
              "    }\n",
              "\n",
              "    .colab-df-convert {\n",
              "      background-color: #E8F0FE;\n",
              "      border: none;\n",
              "      border-radius: 50%;\n",
              "      cursor: pointer;\n",
              "      display: none;\n",
              "      fill: #1967D2;\n",
              "      height: 32px;\n",
              "      padding: 0 0 0 0;\n",
              "      width: 32px;\n",
              "    }\n",
              "\n",
              "    .colab-df-convert:hover {\n",
              "      background-color: #E2EBFA;\n",
              "      box-shadow: 0px 1px 2px rgba(60, 64, 67, 0.3), 0px 1px 3px 1px rgba(60, 64, 67, 0.15);\n",
              "      fill: #174EA6;\n",
              "    }\n",
              "\n",
              "    [theme=dark] .colab-df-convert {\n",
              "      background-color: #3B4455;\n",
              "      fill: #D2E3FC;\n",
              "    }\n",
              "\n",
              "    [theme=dark] .colab-df-convert:hover {\n",
              "      background-color: #434B5C;\n",
              "      box-shadow: 0px 1px 3px 1px rgba(0, 0, 0, 0.15);\n",
              "      filter: drop-shadow(0px 1px 2px rgba(0, 0, 0, 0.3));\n",
              "      fill: #FFFFFF;\n",
              "    }\n",
              "  </style>\n",
              "\n",
              "      <script>\n",
              "        const buttonEl =\n",
              "          document.querySelector('#df-c53b512c-6cd6-4f22-94d6-aa3d5dd1951e button.colab-df-convert');\n",
              "        buttonEl.style.display =\n",
              "          google.colab.kernel.accessAllowed ? 'block' : 'none';\n",
              "\n",
              "        async function convertToInteractive(key) {\n",
              "          const element = document.querySelector('#df-c53b512c-6cd6-4f22-94d6-aa3d5dd1951e');\n",
              "          const dataTable =\n",
              "            await google.colab.kernel.invokeFunction('convertToInteractive',\n",
              "                                                     [key], {});\n",
              "          if (!dataTable) return;\n",
              "\n",
              "          const docLinkHtml = 'Like what you see? Visit the ' +\n",
              "            '<a target=\"_blank\" href=https://colab.research.google.com/notebooks/data_table.ipynb>data table notebook</a>'\n",
              "            + ' to learn more about interactive tables.';\n",
              "          element.innerHTML = '';\n",
              "          dataTable['output_type'] = 'display_data';\n",
              "          await google.colab.output.renderOutput(dataTable, element);\n",
              "          const docLink = document.createElement('div');\n",
              "          docLink.innerHTML = docLinkHtml;\n",
              "          element.appendChild(docLink);\n",
              "        }\n",
              "      </script>\n",
              "    </div>\n",
              "  </div>\n",
              "  "
            ]
          },
          "metadata": {},
          "execution_count": 14
        }
      ]
    },
    {
      "cell_type": "code",
      "source": [
        "df.info()"
      ],
      "metadata": {
        "colab": {
          "base_uri": "https://localhost:8080/"
        },
        "id": "hqlbN5v2EAEy",
        "outputId": "4df1f72b-bc39-4515-e4e9-50d1e107511b"
      },
      "execution_count": 15,
      "outputs": [
        {
          "output_type": "stream",
          "name": "stdout",
          "text": [
            "<class 'pandas.core.frame.DataFrame'>\n",
            "RangeIndex: 10866 entries, 0 to 10865\n",
            "Data columns (total 21 columns):\n",
            " #   Column                Non-Null Count  Dtype  \n",
            "---  ------                --------------  -----  \n",
            " 0   id                    10866 non-null  int64  \n",
            " 1   imdb_id               10856 non-null  object \n",
            " 2   popularity            10866 non-null  float64\n",
            " 3   budget                10866 non-null  int64  \n",
            " 4   revenue               10866 non-null  int64  \n",
            " 5   original_title        10866 non-null  object \n",
            " 6   cast                  10790 non-null  object \n",
            " 7   homepage              2936 non-null   object \n",
            " 8   director              10822 non-null  object \n",
            " 9   tagline               8042 non-null   object \n",
            " 10  keywords              9373 non-null   object \n",
            " 11  overview              10862 non-null  object \n",
            " 12  runtime               10866 non-null  int64  \n",
            " 13  genres                10843 non-null  object \n",
            " 14  production_companies  9836 non-null   object \n",
            " 15  release_date          10866 non-null  object \n",
            " 16  vote_count            10866 non-null  int64  \n",
            " 17  vote_average          10866 non-null  float64\n",
            " 18  release_year          10866 non-null  int64  \n",
            " 19  budget_adj            10866 non-null  float64\n",
            " 20  revenue_adj           10866 non-null  float64\n",
            "dtypes: float64(4), int64(6), object(11)\n",
            "memory usage: 1.7+ MB\n"
          ]
        }
      ]
    },
    {
      "cell_type": "code",
      "source": [
        "df.isnull().sum()"
      ],
      "metadata": {
        "colab": {
          "base_uri": "https://localhost:8080/"
        },
        "id": "7uBXaQMdEAKf",
        "outputId": "fe97aa9d-3e05-4fe4-be7c-ff2fbb19907b"
      },
      "execution_count": 16,
      "outputs": [
        {
          "output_type": "execute_result",
          "data": {
            "text/plain": [
              "id                         0\n",
              "imdb_id                   10\n",
              "popularity                 0\n",
              "budget                     0\n",
              "revenue                    0\n",
              "original_title             0\n",
              "cast                      76\n",
              "homepage                7930\n",
              "director                  44\n",
              "tagline                 2824\n",
              "keywords                1493\n",
              "overview                   4\n",
              "runtime                    0\n",
              "genres                    23\n",
              "production_companies    1030\n",
              "release_date               0\n",
              "vote_count                 0\n",
              "vote_average               0\n",
              "release_year               0\n",
              "budget_adj                 0\n",
              "revenue_adj                0\n",
              "dtype: int64"
            ]
          },
          "metadata": {},
          "execution_count": 16
        }
      ]
    },
    {
      "cell_type": "code",
      "source": [
        "# drop unuseful columns \n",
        "df.drop(['id','imdb_id', 'homepage','overview'],axis=1,inplace=True)  # do not forget inplace \n",
        "\n",
        "# Ways to handle missing data\n",
        "# For all missing data with object as datatype , I fill in with string \"missing\"\n",
        "df['cast'].fillna('missing',inplace=True )\n",
        "df['director'].fillna('missing',inplace=True)\n",
        "df['tagline'].fillna('missing',inplace=True)\n",
        "df['keywords'].fillna('missing',inplace=True)\n",
        "df['genres'].fillna('missing',inplace=True)\n",
        "df['production_companies'].fillna('missing',inplace=True) \n",
        "df['budget'] = df['budget'].replace(0, np.NAN) \n",
        "# although there is no null in budget, but we would find there is a problem when we calculate df['budget'].median()\n",
        "# Will deal with all the 0 value in budget later."
      ],
      "metadata": {
        "id": "xcEPuggvEAP8"
      },
      "execution_count": 17,
      "outputs": []
    },
    {
      "cell_type": "code",
      "source": [
        "# confirm the data \n",
        "df.isnull().sum()"
      ],
      "metadata": {
        "colab": {
          "base_uri": "https://localhost:8080/"
        },
        "id": "o74DbSehEASc",
        "outputId": "f006ed3b-e0b8-4bd7-a339-f55f5df4bf09"
      },
      "execution_count": 18,
      "outputs": [
        {
          "output_type": "execute_result",
          "data": {
            "text/plain": [
              "popularity                 0\n",
              "budget                  5696\n",
              "revenue                    0\n",
              "original_title             0\n",
              "cast                       0\n",
              "director                   0\n",
              "tagline                    0\n",
              "keywords                   0\n",
              "runtime                    0\n",
              "genres                     0\n",
              "production_companies       0\n",
              "release_date               0\n",
              "vote_count                 0\n",
              "vote_average               0\n",
              "release_year               0\n",
              "budget_adj                 0\n",
              "revenue_adj                0\n",
              "dtype: int64"
            ]
          },
          "metadata": {},
          "execution_count": 18
        }
      ]
    },
    {
      "cell_type": "code",
      "source": [
        "# check if there are some duplicates \n",
        "df.duplicated().sum()"
      ],
      "metadata": {
        "colab": {
          "base_uri": "https://localhost:8080/"
        },
        "id": "LTPeMkrHEAVa",
        "outputId": "0296158e-771b-4af9-91d0-01b4d8f93961"
      },
      "execution_count": 19,
      "outputs": [
        {
          "output_type": "execute_result",
          "data": {
            "text/plain": [
              "1"
            ]
          },
          "metadata": {},
          "execution_count": 19
        }
      ]
    },
    {
      "cell_type": "code",
      "source": [
        "# drop the duplicates\n",
        "df.drop_duplicates(inplace=True)     # do not forget inplace = True \n",
        "# confirm again \n",
        "df.duplicated().sum()   "
      ],
      "metadata": {
        "colab": {
          "base_uri": "https://localhost:8080/"
        },
        "id": "ZG9_xmL8EAXy",
        "outputId": "3bd0c49a-cf3d-4b8f-fd87-5d8d7fabe958"
      },
      "execution_count": 20,
      "outputs": [
        {
          "output_type": "execute_result",
          "data": {
            "text/plain": [
              "0"
            ]
          },
          "metadata": {},
          "execution_count": 20
        }
      ]
    },
    {
      "cell_type": "code",
      "source": [
        "# visulize each variables \n",
        "df.hist(figsize=(15,15));"
      ],
      "metadata": {
        "colab": {
          "base_uri": "https://localhost:8080/",
          "height": 892
        },
        "id": "Xk3qMGixEAaH",
        "outputId": "10656533-f55c-41b0-b5cf-24c015ca7c97"
      },
      "execution_count": 21,
      "outputs": [
        {
          "output_type": "display_data",
          "data": {
            "text/plain": [
              "<Figure size 1080x1080 with 9 Axes>"
            ],
            "image/png": "[encoded data removed]"
          },
          "metadata": {
            "needs_background": "light"
          }
        }
      ]
    },
    {
      "cell_type": "markdown",
      "source": [
        "# Exploration with Visuals and Conclusions\n",
        "Question 1. Does higher budget mean higher popularity ? Is there a coefficent relationship ?"
      ],
      "metadata": {
        "id": "jS5zM__cKWkb"
      }
    },
    {
      "cell_type": "code",
      "source": [
        "# plot the relation between budget and popularity \n",
        "x = df['budget']\n",
        "y = df['popularity'] \n",
        "\n",
        "plt.scatter(x,y)\n",
        "plt.title('Average Popularity by Different budget',fontsize=12)\n",
        "plt.xlabel('budgete',fontsize=10)\n",
        "plt.ylabel('popularity',fontsize=10)"
      ],
      "metadata": {
        "colab": {
          "base_uri": "https://localhost:8080/",
          "height": 312
        },
        "id": "dqJRdMjUEAcy",
        "outputId": "b12da5e3-edae-4731-d5ee-46c0b31e82d8"
      },
      "execution_count": 22,
      "outputs": [
        {
          "output_type": "execute_result",
          "data": {
            "text/plain": [
              "Text(0, 0.5, 'popularity')"
            ]
          },
          "metadata": {},
          "execution_count": 22
        },
        {
          "output_type": "display_data",
          "data": {
            "text/plain": [
              "<Figure size 432x288 with 1 Axes>"
            ],
            "image/png": "[encoded data removed]"
          },
          "metadata": {
            "needs_background": "light"
          }
        }
      ]
    },
    {
      "cell_type": "markdown",
      "source": [
        "We can not see very strong relatioship between the budget and the popularity from above plot.\n",
        "Let's try to compare the data in another way: create two groups based on median value of budget\n"
      ],
      "metadata": {
        "id": "V2s51sYNKdgj"
      }
    },
    {
      "cell_type": "code",
      "source": [
        "# based on median budget value to divide the budget into two groups : low and high\n",
        "m = df['budget'].median()\n",
        "low_budg =  df.query('budget < {}'.format(m))\n",
        "high_budg =  df.query('budget >= {}'.format(m))"
      ],
      "metadata": {
        "id": "cm2E1w51EAfY"
      },
      "execution_count": 23,
      "outputs": []
    },
    {
      "cell_type": "code",
      "source": [
        "# check low budget and high budget mean values respecively \n",
        "mean_popularity_of_low_budget = low_budg['popularity'].mean()\n",
        "mean_popularity_of_high_budget = high_budg['popularity'].mean()"
      ],
      "metadata": {
        "id": "qBFvElq4EAiP"
      },
      "execution_count": 24,
      "outputs": []
    },
    {
      "cell_type": "code",
      "source": [
        "# create a bar chart with the values we get above \n",
        "locations = [1,2]\n",
        "heights = [mean_popularity_of_low_budget , mean_popularity_of_high_budget]\n",
        "labels=['low','high']\n",
        "plt.bar(locations, heights, tick_label = labels)\n",
        "plt.title('Average Popularity by Different Budget')\n",
        "plt.xlabel('Budgets')\n",
        "plt.ylabel('Average Popularity')"
      ],
      "metadata": {
        "colab": {
          "base_uri": "https://localhost:8080/",
          "height": 312
        },
        "id": "5qGsVMZpKh6u",
        "outputId": "4ba81f9f-e08d-4525-f17d-399a642f59f8"
      },
      "execution_count": 25,
      "outputs": [
        {
          "output_type": "execute_result",
          "data": {
            "text/plain": [
              "Text(0, 0.5, 'Average Popularity')"
            ]
          },
          "metadata": {},
          "execution_count": 25
        },
        {
          "output_type": "display_data",
          "data": {
            "text/plain": [
              "<Figure size 432x288 with 1 Axes>"
            ],
            "image/png": "[encoded data removed]"
          },
          "metadata": {
            "needs_background": "light"
          }
        }
      ]
    },
    {
      "cell_type": "code",
      "source": [
        "increase_percentage = (mean_popularity_of_high_budget - mean_popularity_of_low_budget) / mean_popularity_of_high_budget * 100\n",
        "increase_percentage"
      ],
      "metadata": {
        "colab": {
          "base_uri": "https://localhost:8080/"
        },
        "id": "EF_uNTarKh9N",
        "outputId": "fa455a2c-4adc-43a5-87a1-51c87fadb50a"
      },
      "execution_count": 26,
      "outputs": [
        {
          "output_type": "execute_result",
          "data": {
            "text/plain": [
              "55.50933772947093"
            ]
          },
          "metadata": {},
          "execution_count": 26
        }
      ]
    },
    {
      "cell_type": "code",
      "source": [
        "# here I will create 3 groups with query().  <60 min: short   , 60 min <=  <= - 120 min: medium ,  >120 min: long \n",
        "short =  df.query('runtime < {}'.format(100))\n",
        "medium =  df.query('runtime < {}'.format(200))\n",
        "long = df.query('runtime > {}'.format(200))"
      ],
      "metadata": {
        "id": "1AWzMC5EKh_Y"
      },
      "execution_count": 27,
      "outputs": []
    },
    {
      "cell_type": "code",
      "source": [
        "# check mean popularity of different movie lengths \n",
        "mean_popularity_of_short = short['popularity'].mean()\n",
        "mean_popularity_of_medium = medium['popularity'].mean()\n",
        "mean_popularity_of_long = long['popularity'].mean()\n"
      ],
      "metadata": {
        "id": "YkY9ZF95KiCO"
      },
      "execution_count": 28,
      "outputs": []
    },
    {
      "cell_type": "code",
      "source": [
        "locations = [1,2,3]\n",
        "heights = [mean_popularity_of_short, mean_popularity_of_medium, mean_popularity_of_long]\n",
        "labels=['low','medium','high']\n",
        "plt.bar(locations, heights, tick_label = labels)\n",
        "plt.title('Average Popularity by Different Runtime')\n",
        "plt.xlabel('Runtime')\n",
        "plt.ylabel('Average Popularity')"
      ],
      "metadata": {
        "colab": {
          "base_uri": "https://localhost:8080/",
          "height": 312
        },
        "id": "t-gU4HqSEAoB",
        "outputId": "407f5056-71b8-4c99-88fb-34326cd78c87"
      },
      "execution_count": 29,
      "outputs": [
        {
          "output_type": "execute_result",
          "data": {
            "text/plain": [
              "Text(0, 0.5, 'Average Popularity')"
            ]
          },
          "metadata": {},
          "execution_count": 29
        },
        {
          "output_type": "display_data",
          "data": {
            "text/plain": [
              "<Figure size 432x288 with 1 Axes>"
            ],
            "image/png": "[encoded data removed]"
          },
          "metadata": {
            "needs_background": "light"
          }
        }
      ]
    },
    {
      "cell_type": "markdown",
      "source": [
        "The movies should not be too long or too short. Medium length is better to gain higher popularity. \n",
        "But above bar chart is hard to tell the best length of runtime. Scatter plot may be a better choice. "
      ],
      "metadata": {
        "id": "8kJOV1EaKvR9"
      }
    },
    {
      "cell_type": "code",
      "source": [
        "# plot the relation between runtime and popularity \n",
        "x = df['runtime']\n",
        "y = df['popularity'] \n",
        "\n",
        "plt.scatter(x,y)\n",
        "\n",
        "plt.title('Average Popularity by Different Runtime',fontsize=12)\n",
        "plt.xlabel('runtime',fontsize=10)\n",
        "plt.ylabel('popularity',fontsize=10)\n"
      ],
      "metadata": {
        "colab": {
          "base_uri": "https://localhost:8080/",
          "height": 312
        },
        "id": "KeEFbdjoKwGg",
        "outputId": "ba39e242-2e05-46c7-ee57-2e3d8a985f43"
      },
      "execution_count": 30,
      "outputs": [
        {
          "output_type": "execute_result",
          "data": {
            "text/plain": [
              "Text(0, 0.5, 'popularity')"
            ]
          },
          "metadata": {},
          "execution_count": 30
        },
        {
          "output_type": "display_data",
          "data": {
            "text/plain": [
              "<Figure size 432x288 with 1 Axes>"
            ],
            "image/png": "[encoded data removed]"
          },
          "metadata": {
            "needs_background": "light"
          }
        }
      ]
    },
    {
      "cell_type": "markdown",
      "source": [
        "Conclusion Q2:    \n",
        "Combine two plots above, we can not simply say , the longer runtime, the more popular the movies are.  \n",
        "If the movies are within 200 minutes,it will be more popular. Once the movies run over 200 minutes, it's hard for them to gain high popularity "
      ],
      "metadata": {
        "id": "3757FdihK0Lk"
      }
    },
    {
      "cell_type": "markdown",
      "source": [
        "Q3 : Higher popularity means higher profits ? "
      ],
      "metadata": {
        "id": "ET68QT_5K3kX"
      }
    },
    {
      "cell_type": "code",
      "source": [
        "# we need to get the mean of popularity \n",
        "m_popularity = df['popularity'].median()\n",
        "lower_popularity =  df.query('popularity < {}'.format(m_popularity))\n",
        "higher_popularity =  df.query('popularity >= {}'.format(m_popularity))\n"
      ],
      "metadata": {
        "id": "_SqF5EPWKwI4"
      },
      "execution_count": 35,
      "outputs": []
    },
    {
      "cell_type": "markdown",
      "source": [
        ""
      ],
      "metadata": {
        "id": "QoNH8LToK21n"
      }
    },
    {
      "cell_type": "code",
      "source": [
        "# create a new column called profit. profit = Revenue - budget\n",
        "df['profit'] = df['revenue'] - df['budget']\n",
        "#df['profit'].head(20)\n",
        "#df.head()"
      ],
      "metadata": {
        "id": "FRPQdIfhKwMi"
      },
      "execution_count": 32,
      "outputs": []
    },
    {
      "cell_type": "code",
      "source": [
        "# average net profit for low_popularity and high_popularity\n",
        "mean_profit_of_low_popularity = lower_popularity['profit'].mean()\n",
        "mean_profit_of_high_popularity = higher_popularity['profit'].mean()\n",
        "# df.head()"
      ],
      "metadata": {
        "id": "g1IZc1HbKwOo"
      },
      "execution_count": 36,
      "outputs": []
    },
    {
      "cell_type": "code",
      "source": [
        "# create a bar chart with the values we get above \n",
        "locations = [1,2]\n",
        "heights = [mean_profit_of_low_popularity, mean_profit_of_high_popularity]\n",
        "labels=['low','high']\n",
        "plt.bar(locations, heights, tick_label = labels)\n",
        "plt.title('Average profit by Different Popularity')\n",
        "plt.xlabel('Popularity')\n",
        "plt.ylabel('Average Profit')"
      ],
      "metadata": {
        "colab": {
          "base_uri": "https://localhost:8080/",
          "height": 312
        },
        "id": "mTB83xRfKwRU",
        "outputId": "69817d59-ed84-4341-a04d-2ed57a635933"
      },
      "execution_count": 37,
      "outputs": [
        {
          "output_type": "execute_result",
          "data": {
            "text/plain": [
              "Text(0, 0.5, 'Average Profit')"
            ]
          },
          "metadata": {},
          "execution_count": 37
        },
        {
          "output_type": "display_data",
          "data": {
            "text/plain": [
              "<Figure size 432x288 with 1 Axes>"
            ],
            "image/png": "[encoded data removed]"
          },
          "metadata": {
            "needs_background": "light"
          }
        }
      ]
    },
    {
      "cell_type": "markdown",
      "source": [
        "Conclusion for Question 3: as we can see above, higher popularity does make much higher average profits. "
      ],
      "metadata": {
        "id": "LF69Z1sqLqLi"
      }
    },
    {
      "cell_type": "markdown",
      "source": [
        "4. What Features are Associate with Top 10 Revenue Movies ? \n"
      ],
      "metadata": {
        "id": "raGjiYoELsNg"
      }
    },
    {
      "cell_type": "code",
      "source": [
        "top10_revenue = df.nlargest(10,'revenue')\n",
        "top10_revenue.hist(figsize=(12,12))"
      ],
      "metadata": {
        "colab": {
          "base_uri": "https://localhost:8080/",
          "height": 955
        },
        "id": "afDfmb1bKwT0",
        "outputId": "b96af687-a58d-44ce-f225-a3bcaed60fee"
      },
      "execution_count": 38,
      "outputs": [
        {
          "output_type": "execute_result",
          "data": {
            "text/plain": [
              "array([[<matplotlib.axes._subplots.AxesSubplot object at 0x7f1aae1811d0>,\n",
              "        <matplotlib.axes._subplots.AxesSubplot object at 0x7f1aad258cd0>,\n",
              "        <matplotlib.axes._subplots.AxesSubplot object at 0x7f1aad2253d0>],\n",
              "       [<matplotlib.axes._subplots.AxesSubplot object at 0x7f1aad1dc790>,\n",
              "        <matplotlib.axes._subplots.AxesSubplot object at 0x7f1aad191bd0>,\n",
              "        <matplotlib.axes._subplots.AxesSubplot object at 0x7f1aad156110>],\n",
              "       [<matplotlib.axes._subplots.AxesSubplot object at 0x7f1aad10c650>,\n",
              "        <matplotlib.axes._subplots.AxesSubplot object at 0x7f1aad0c3a90>,\n",
              "        <matplotlib.axes._subplots.AxesSubplot object at 0x7f1aad0c3ad0>],\n",
              "       [<matplotlib.axes._subplots.AxesSubplot object at 0x7f1aad088110>,\n",
              "        <matplotlib.axes._subplots.AxesSubplot object at 0x7f1aad075a10>,\n",
              "        <matplotlib.axes._subplots.AxesSubplot object at 0x7f1abd5bde90>]],\n",
              "      dtype=object)"
            ]
          },
          "metadata": {},
          "execution_count": 38
        },
        {
          "output_type": "display_data",
          "data": {
            "text/plain": [
              "<Figure size 864x864 with 12 Axes>"
            ],
            "image/png": "[encoded data removed]"
          },
          "metadata": {
            "needs_background": "light"
          }
        }
      ]
    },
    {
      "cell_type": "markdown",
      "source": [
        ""
      ],
      "metadata": {
        "id": "9uG3oCDZLzJk"
      }
    },
    {
      "cell_type": "markdown",
      "source": [
        "Conclusion for question 4: "
      ],
      "metadata": {
        "id": "gd526NyVLzMh"
      }
    },
    {
      "cell_type": "markdown",
      "source": [
        "There are some characteristics we can conclude from the top 10 movies. Runtime ranges from 100 mins to 200 mins. The released year are between 1995 to 2015. "
      ],
      "metadata": {
        "id": "KGR8MsfSL2Uq"
      }
    },
    {
      "cell_type": "markdown",
      "source": [
        "5. Which genres are most popular from year to year?"
      ],
      "metadata": {
        "id": "LzErQnSjL7Dc"
      }
    },
    {
      "cell_type": "code",
      "source": [
        "#The following function can give all the counts for per category \n",
        "def extract_data(column_name):\n",
        "    data = df[column_name].str.cat(sep = '|') # put all the genres into a long string  \n",
        "    # Create pandas series and store the values separately\n",
        "    data = pd.Series(data.split('|'))   # split the genres by |\n",
        "    # Display value count in descending order\n",
        "    count = data.value_counts(ascending = False) # count the occurrence of each genres \n",
        "    return count\n"
      ],
      "metadata": {
        "id": "xWvMd9dML0yZ"
      },
      "execution_count": 39,
      "outputs": []
    },
    {
      "cell_type": "code",
      "source": [
        "# use the function created above to split genres and count the occurrence of each one\n",
        "genre_count = extract_data('genres')\n",
        "\n",
        "#create a separate dataframe to plot\n",
        "df_genre_counts = pd.DataFrame({'genres': genre_count.index, 'count': genre_count.values }) \n",
        "#df_genre_counts\n",
        "\n",
        "f, ax = plt.subplots(figsize=(23, 9))\n",
        "# use the dataframe just created as the input data \n",
        "sns.barplot(x = 'count', y = 'genres', data=df_genre_counts) # how to get the data is the key \n",
        "ax.set_title(' occurences per genre ')\n",
        "ax.set_xlabel('occurrences')\n",
        "ax.set_ylabel('genres')\n",
        "plt.show()\n"
      ],
      "metadata": {
        "colab": {
          "base_uri": "https://localhost:8080/",
          "height": 383
        },
        "id": "7LbJE2DDKwVq",
        "outputId": "6b15f23d-120d-48f1-8045-17e227084237"
      },
      "execution_count": 40,
      "outputs": [
        {
          "output_type": "display_data",
          "data": {
            "text/plain": [
              "<Figure size 1656x648 with 1 Axes>"
            ],
            "image/png": "[encoded data removed]"
          },
          "metadata": {
            "needs_background": "light"
          }
        }
      ]
    },
    {
      "cell_type": "code",
      "source": [
        "director_count = extract_data('director')\n",
        "director_count"
      ],
      "metadata": {
        "colab": {
          "base_uri": "https://localhost:8080/"
        },
        "id": "gpb4WbwqKwZJ",
        "outputId": "92e50e3e-21a7-42ad-f5c3-4226704cd5ba"
      },
      "execution_count": 42,
      "outputs": [
        {
          "output_type": "execute_result",
          "data": {
            "text/plain": [
              "Woody Allen         46\n",
              "missing             44\n",
              "Clint Eastwood      34\n",
              "Martin Scorsese     31\n",
              "Steven Spielberg    30\n",
              "                    ..\n",
              "Mike Maguire         1\n",
              "Tom Kuntz            1\n",
              "John Simpson         1\n",
              "Simon Hunter         1\n",
              "Harold P. Warren     1\n",
              "Length: 5363, dtype: int64"
            ]
          },
          "metadata": {},
          "execution_count": 42
        }
      ]
    },
    {
      "cell_type": "code",
      "source": [
        "movie_count = df['release_year'].value_counts()\n",
        "# movie_count.plot(xlabel='year',ylabel='number of movies',title='Number of Movies Released Each Year')\n",
        "fig = plt.figure()\n",
        "plt.plot(movie_count)\n",
        "fig.suptitle('Number of Movies Released Each Year',fontsize=20)\n",
        "plt.xlabel('year',fontsize=18)\n",
        "plt.ylabel('number of movies',fontsize=18)"
      ],
      "metadata": {
        "colab": {
          "base_uri": "https://localhost:8080/",
          "height": 333
        },
        "id": "jaAr85WkMI80",
        "outputId": "5e887bd5-b288-4a87-cdc8-8383e173a9af"
      },
      "execution_count": 43,
      "outputs": [
        {
          "output_type": "execute_result",
          "data": {
            "text/plain": [
              "Text(0, 0.5, 'number of movies')"
            ]
          },
          "metadata": {},
          "execution_count": 43
        },
        {
          "output_type": "display_data",
          "data": {
            "text/plain": [
              "<Figure size 432x288 with 1 Axes>"
            ],
            "image/png": "[encoded data removed]"
          },
          "metadata": {
            "needs_background": "light"
          }
        }
      ]
    },
    {
      "cell_type": "markdown",
      "source": [
        "Throught above two plots, we can see The top 5 genres are Drama, Comedy, Action, Horror and Adventrue\n",
        "The number of movies increased along the time. "
      ],
      "metadata": {
        "id": "vIxaywBfMPgl"
      }
    },
    {
      "cell_type": "code",
      "source": [
        "# The following is a really comprehensive plot. It shows the revenue and budget for each genre type per year\n",
        "# genres are so specific, I will just take the first genre for each movie instead of the genre combination\n",
        "df['genre'] =  df['genres'].apply(lambda x: x.split('|')[0])\n",
        "\n",
        "# plot all the genre types for each year with the budget and revenue\n",
        "genre_year = df.groupby(['genre', 'release_year']).mean().sort_index()\n",
        "df_gyBudget = genre_year.pivot_table(index=['genre'], columns=['release_year'], values='budget', aggfunc=np.mean)\n",
        "df_gyBudget = genre_year.pivot_table(index=['genre'], columns=['release_year'], values='budget', aggfunc=np.mean)\n",
        "\n",
        "\n",
        "df_gyGross = genre_year.pivot_table(index=['genre'], columns=['release_year'], values='revenue', aggfunc=np.mean)\n",
        "f, [axA, axB] = plt.subplots(figsize=(40, 20), nrows=2)\n",
        "cmap = sns.cubehelix_palette(start=1.5, rot=1.5, as_cmap=True)\n",
        "sns.heatmap(df_gyBudget, xticklabels=3, cmap=cmap, linewidths=0.05, ax=axA)\n",
        "sns.heatmap(df_gyGross, xticklabels=3, cmap=cmap, linewidths=0.05, ax=axB)\n",
        "axA.set_title('budget x genre x year')\n",
        "axA.set_xlabel('release_years')\n",
        "axA.set_ylabel('genres')\n",
        "\n",
        "\n",
        "axB.set_title('revenue x genre x year')\n",
        "axB.set_xlabel('release_years')\n",
        "axB.set_ylabel('genres')\n",
        "plt.show()\n",
        "\n"
      ],
      "metadata": {
        "colab": {
          "base_uri": "https://localhost:8080/",
          "height": 536
        },
        "id": "CGsoMmwqMI_Z",
        "outputId": "7618727c-8a30-45f1-f950-0952662d3cc5"
      },
      "execution_count": 44,
      "outputs": [
        {
          "output_type": "display_data",
          "data": {
            "text/plain": [
              "<Figure size 2880x1440 with 4 Axes>"
            ],
            "image/png": "[encoded data removed]"
          },
          "metadata": {
            "needs_background": "light"
          }
        }
      ]
    },
    {
      "cell_type": "markdown",
      "source": [
        "Conclusion for Question 5:  As the time goes, we have a wider range of movies and genres to choose from.  From 1984 to 2014, there are more and more high budget, high revenue movies. But compared to the budgets, "
      ],
      "metadata": {
        "id": "9j7ODCqyMUT9"
      }
    },
    {
      "cell_type": "markdown",
      "source": [
        "# Conclusion:\n",
        "\n",
        "\n"
      ],
      "metadata": {
        "id": "Z3YrRsjqMUWI"
      }
    },
    {
      "cell_type": "markdown",
      "source": [
        "Based on the analysis I did above, we can make the following summarizations: \n",
        "1. The quantity and range of movie gets larger.We have more choices to choose from as an audience. \n",
        "2. We can not say high budget guarantees high popularity. But for movies with higher budgets do produce higher average popularity. \n",
        "3. To produce a more popular movie, the runtime should be best around 150 mins; Drama, Comedy, Action, these genres would be preferable. "
      ],
      "metadata": {
        "id": "B6b0MqqkMUY2"
      }
    },
    {
      "cell_type": "markdown",
      "source": [
        "# Limitations:\n"
      ],
      "metadata": {
        "id": "iXZzx36bMdZl"
      }
    },
    {
      "cell_type": "markdown",
      "source": [
        "1.These are factors that makes the movies become popular and successful. But we should also notice the limitations. There are     some missing data and many erroreous zeros which may affect the analysis. \n",
        "\n",
        "2. It's hard for us to know how the vote_counts and popularity are measured.  \n",
        "\n",
        "3. For foreign movies,currecy is not indicated. inflation over the years should also be taken into consideration."
      ],
      "metadata": {
        "id": "MUeIoHxKMdcV"
      }
    },
    {
      "cell_type": "markdown",
      "source": [
        "# Reference:\n",
        "1. https://pandas.pydata.org/pandas-docs/version/0.17.0/generated/pandas.DataFrame.nlargest.html\n",
        "2. https://www.kaggle.com/diegoinacio/imdb-genre-based-analysis\n",
        "3.https://pandas.pydata.org/pandas-docs/stable/generated/pandas.DataFrame.apply.html\n",
        "4.https://pandas.pydata.org/pandas-docs/stable/visualization.html"
      ],
      "metadata": {
        "id": "YtTIlzuvMyBb"
      }
    }
  ]
}